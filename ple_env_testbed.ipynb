{
 "cells": [
  {
   "attachments": {},
   "cell_type": "markdown",
   "metadata": {},
   "source": [
    "## Exploration of Pygame Learning Environments\n",
    "\n",
    "Objectives:\n",
    "* Learn action space\n",
    "* See visualization\n",
    "* Provide testbed for trying different arguments and game specific hyper paramters\n",
    "\n",
    "Games Tested:\n",
    "* Catcher [1.0]\n",
    "* PixelCopter [1.1]\n",
    "* Pong [1.2]\n",
    "* PuckWorld [1.3]\n",
    "* RaycastMaze [1.5]\n",
    "* Snake [1.6]\n",
    "* Waterworld [1.7]\n",
    "* MonsterKong [2.0]\n",
    "* FlappyBird [2.1]"
   ]
  },
  {
   "cell_type": "markdown",
   "metadata": {},
   "source": [
    "### Catcher [1.0]\n",
    "\n",
    "* Catch falling blocks from the ceiling by touching with paddle\n",
    "* at env start/reset, need to take an action/advance frames or screen will be blank\n",
    "* three actions: left, right, None\n",
    "* seems to be momentum from prior actions"
   ]
  },
  {
   "cell_type": "code",
   "execution_count": 26,
   "metadata": {},
   "outputs": [
    {
     "name": "stdout",
     "output_type": "stream",
     "text": [
      "[100, 97, None]\n"
     ]
    }
   ],
   "source": [
    "import numpy as np\n",
    "from ple import PLE\n",
    "from ple.games.catcher import Catcher\n",
    "\n",
    "game = Catcher()\n",
    "\n",
    "fps = 30  # fps we want to run at\n",
    "frame_skip = 2\n",
    "num_steps = 2\n",
    "force_fps = False # False for slower speed\n",
    "display_screen = True\n",
    "\n",
    "# make a PLE instance.\n",
    "ple_env = PLE(game, fps=fps, frame_skip=frame_skip, num_steps=num_steps,\n",
    "        force_fps=force_fps, display_screen=display_screen)\n",
    "\n",
    "action_length = len(ple_env.getActionSet())\n",
    "action_list = ple_env.getActionSet()\n",
    "print(action_list)\n",
    "\n",
    "# init agent and game.\n",
    "ple_env.init()\n",
    "#advance game one frame, starts out at a black screen\n",
    "ple_env.act(ple_env.NOOP)\n",
    "\n",
    "for i in range(100):\n",
    "    action = action_list[np.random.randint(0,action_length)]\n",
    "    ple_env.act(action)\n",
    "    if ple_env.game_over():\n",
    "        ple_env.reset_game()\n",
    "        ple_env.act(ple_env.NOOP)\n",
    "    #ple_env.saveScreen(\"test_screen_capture_{}.png\".format(i))\n"
   ]
  },
  {
   "cell_type": "code",
   "execution_count": null,
   "metadata": {
    "collapsed": true
   },
   "outputs": [],
   "source": [
    "#useful utilities\n",
    "#ple_env.act() #like gym.step() except only returns reward \n",
    "#ple_env.getScreenGrayscale() #get grayscale image\n",
    "#ple_env.getScreenRGB() #get RGB image\n",
    "#ple_env.lives() check for remaining lives, can be used to check if reset for env is needed\n",
    "#ple_env.reset_game() #resets the environment\n",
    "#ple_env.NOOP #no action, advances the frames"
   ]
  },
  {
   "cell_type": "markdown",
   "metadata": {},
   "source": [
    "### [1.1] Pixelcopter\n",
    "\n",
    "* Flappy bird with pixels\n",
    "* Flap or don't"
   ]
  },
  {
   "cell_type": "code",
   "execution_count": 25,
   "metadata": {},
   "outputs": [
    {
     "name": "stdout",
     "output_type": "stream",
     "text": [
      "[119, None]\n"
     ]
    }
   ],
   "source": [
    "import numpy as np\n",
    "from ple import PLE\n",
    "from ple.games.pixelcopter import Pixelcopter\n",
    "\n",
    "game = Pixelcopter()\n",
    "\n",
    "fps = 30  # fps we want to run at\n",
    "frame_skip = 2\n",
    "num_steps = 2\n",
    "force_fps = False # False for slower speed\n",
    "display_screen = True\n",
    "\n",
    "# make a PLE instance.\n",
    "ple_env = PLE(game, fps=fps, frame_skip=frame_skip, num_steps=num_steps,\n",
    "        force_fps=force_fps, display_screen=display_screen)\n",
    "\n",
    "action_length = len(ple_env.getActionSet())\n",
    "action_list = ple_env.getActionSet()\n",
    "print(action_list)\n",
    "\n",
    "# init agent and game.\n",
    "ple_env.init()\n",
    "#advance game one frame, starts out at a black screen\n",
    "ple_env.act(ple_env.NOOP)\n",
    "\n",
    "for i in range(100):\n",
    "    action = action_list[np.random.randint(0,action_length)]\n",
    "    ple_env.act(action)\n",
    "    if ple_env.game_over():\n",
    "        ple_env.reset_game()\n",
    "        ple_env.act(ple_env.NOOP)\n",
    "    #ple_env.saveScreen(\"test_screen_capture_{}.png\".format(i))"
   ]
  },
  {
   "cell_type": "markdown",
   "metadata": {},
   "source": [
    "### [1.2] Pong"
   ]
  },
  {
   "cell_type": "code",
   "execution_count": 28,
   "metadata": {},
   "outputs": [
    {
     "name": "stdout",
     "output_type": "stream",
     "text": [
      "[119, 115, None]\n"
     ]
    }
   ],
   "source": [
    "import numpy as np\n",
    "from ple import PLE\n",
    "from ple.games.pong import Pong\n",
    "\n",
    "game = Pong() # create our game \n",
    "\n",
    "fps = 30  # fps we want to run at\n",
    "frame_skip = 2\n",
    "num_steps = 2\n",
    "force_fps = False # False for slower speed\n",
    "display_screen = True\n",
    "\n",
    "# make a PLE instance.\n",
    "ple_env = PLE(game, fps=fps, frame_skip=frame_skip, num_steps=num_steps,\n",
    "        force_fps=force_fps, display_screen=display_screen)\n",
    "\n",
    "action_length = len(ple_env.getActionSet())\n",
    "action_list = ple_env.getActionSet()\n",
    "print(action_list)\n",
    "\n",
    "# init agent and game.\n",
    "ple_env.init()\n",
    "#advance game one frame, starts out at a black screen\n",
    "ple_env.act(ple_env.NOOP)\n",
    "\n",
    "for i in range(100):\n",
    "    action = action_list[np.random.randint(0,action_length)]\n",
    "    ple_env.act(action)\n",
    "    if ple_env.game_over():\n",
    "        ple_env.reset_game()\n",
    "        ple_env.act(ple_env.NOOP)\n",
    "    #ple_env.saveScreen(\"test_screen_capture_{}.png\".format(i))"
   ]
  },
  {
   "cell_type": "markdown",
   "metadata": {},
   "source": [
    "### [1.3] PuckWorld\n",
    "* grab green pucks, avoid red one"
   ]
  },
  {
   "cell_type": "code",
   "execution_count": 30,
   "metadata": {},
   "outputs": [
    {
     "name": "stdout",
     "output_type": "stream",
     "text": [
      "[119, 100, 115, 97, None]\n"
     ]
    }
   ],
   "source": [
    "import numpy as np\n",
    "from ple import PLE\n",
    "from ple.games.puckworld import PuckWorld\n",
    "\n",
    "game = PuckWorld() # create our game \n",
    "\n",
    "fps = 30  # fps we want to run at\n",
    "frame_skip = 2\n",
    "num_steps = 2\n",
    "force_fps = False # False for slower speed\n",
    "display_screen = True\n",
    "\n",
    "# make a PLE instance.\n",
    "ple_env = PLE(game, fps=fps, frame_skip=frame_skip, num_steps=num_steps,\n",
    "        force_fps=force_fps, display_screen=display_screen)\n",
    "\n",
    "action_length = len(ple_env.getActionSet())\n",
    "action_list = ple_env.getActionSet()\n",
    "print(action_list)\n",
    "\n",
    "# init agent and game.\n",
    "ple_env.init()\n",
    "#advance game one frame, starts out at a black screen\n",
    "ple_env.act(ple_env.NOOP)\n",
    "\n",
    "for i in range(100):\n",
    "    action = action_list[np.random.randint(0,action_length)]\n",
    "    ple_env.act(action)\n",
    "    if ple_env.game_over():\n",
    "        ple_env.reset_game()\n",
    "        ple_env.act(ple_env.NOOP)\n",
    "    #ple_env.saveScreen(\"test_screen_capture_{}.png\".format(i))"
   ]
  },
  {
   "cell_type": "markdown",
   "metadata": {},
   "source": [
    "### [1.4] Raycast\n",
    "* Navitage a maze from first person view\n",
    "* Search for an exit"
   ]
  },
  {
   "cell_type": "code",
   "execution_count": 32,
   "metadata": {},
   "outputs": [
    {
     "name": "stdout",
     "output_type": "stream",
     "text": [
      "[119, 100, 97, 115, None]\n"
     ]
    }
   ],
   "source": [
    "import numpy as np\n",
    "from ple import PLE\n",
    "from ple.games.raycastmaze import RaycastMaze\n",
    "\n",
    "game = RaycastMaze() # create our game \n",
    "\n",
    "fps = 30  # fps we want to run at\n",
    "frame_skip = 2\n",
    "num_steps = 2\n",
    "force_fps = False # False for slower speed\n",
    "display_screen = True\n",
    "\n",
    "# make a PLE instance.\n",
    "ple_env = PLE(game, fps=fps, frame_skip=frame_skip, num_steps=num_steps,\n",
    "        force_fps=force_fps, display_screen=display_screen)\n",
    "\n",
    "action_length = len(ple_env.getActionSet())\n",
    "action_list = ple_env.getActionSet()\n",
    "print(action_list)\n",
    "\n",
    "# init agent and game.\n",
    "ple_env.init()\n",
    "#advance game one frame, starts out at a black screen\n",
    "ple_env.act(ple_env.NOOP)\n",
    "\n",
    "for i in range(100):\n",
    "    action = action_list[np.random.randint(0,action_length)]\n",
    "    ple_env.act(action)\n",
    "    if ple_env.game_over():\n",
    "        ple_env.reset_game()\n",
    "        ple_env.act(ple_env.NOOP)\n",
    "    #ple_env.saveScreen(\"test_screen_capture_{}.png\".format(i))"
   ]
  },
  {
   "cell_type": "markdown",
   "metadata": {},
   "source": [
    "### [1.5] Snake"
   ]
  },
  {
   "cell_type": "code",
   "execution_count": 33,
   "metadata": {},
   "outputs": [
    {
     "name": "stdout",
     "output_type": "stream",
     "text": [
      "[119, 100, 115, 97, None]\n"
     ]
    }
   ],
   "source": [
    "import numpy as np\n",
    "from ple import PLE\n",
    "from ple.games.snake import Snake\n",
    "\n",
    "game = Snake() # create our game\n",
    "\n",
    "fps = 30  # fps we want to run at\n",
    "frame_skip = 2\n",
    "num_steps = 2\n",
    "force_fps = False # False for slower speed\n",
    "display_screen = True\n",
    "\n",
    "# make a PLE instance.\n",
    "ple_env = PLE(game, fps=fps, frame_skip=frame_skip, num_steps=num_steps,\n",
    "        force_fps=force_fps, display_screen=display_screen)\n",
    "\n",
    "action_length = len(ple_env.getActionSet())\n",
    "action_list = ple_env.getActionSet()\n",
    "print(action_list)\n",
    "\n",
    "# init agent and game.\n",
    "ple_env.init()\n",
    "#advance game one frame, starts out at a black screen\n",
    "ple_env.act(ple_env.NOOP)\n",
    "\n",
    "for i in range(100):\n",
    "    action = action_list[np.random.randint(0,action_length)]\n",
    "    ple_env.act(action)\n",
    "    if ple_env.game_over():\n",
    "        ple_env.reset_game()\n",
    "        ple_env.act(ple_env.NOOP)\n",
    "    #ple_env.saveScreen(\"test_screen_capture_{}.png\".format(i))"
   ]
  },
  {
   "cell_type": "markdown",
   "metadata": {},
   "source": [
    "### [1.6] Waterworld\n",
    "* Collect green circles, avoid red ones"
   ]
  },
  {
   "cell_type": "code",
   "execution_count": 35,
   "metadata": {},
   "outputs": [
    {
     "name": "stdout",
     "output_type": "stream",
     "text": [
      "[119, 100, 115, 97, None]\n"
     ]
    }
   ],
   "source": [
    "import numpy as np\n",
    "from ple import PLE\n",
    "from ple.games.waterworld import WaterWorld\n",
    "\n",
    "game = WaterWorld() # create our game \n",
    "\n",
    "fps = 30  # fps we want to run at\n",
    "frame_skip = 2\n",
    "num_steps = 2\n",
    "force_fps = False # False for slower speed\n",
    "display_screen = True\n",
    "\n",
    "# make a PLE instance.\n",
    "ple_env = PLE(game, fps=fps, frame_skip=frame_skip, num_steps=num_steps,\n",
    "        force_fps=force_fps, display_screen=display_screen)\n",
    "\n",
    "action_length = len(ple_env.getActionSet())\n",
    "action_list = ple_env.getActionSet()\n",
    "print(action_list)\n",
    "\n",
    "# init agent and game.\n",
    "ple_env.init()\n",
    "#advance game one frame, starts out at a black screen\n",
    "ple_env.act(ple_env.NOOP)\n",
    "\n",
    "for i in range(100):\n",
    "    action = action_list[np.random.randint(0,action_length)]\n",
    "    ple_env.act(action)\n",
    "    if ple_env.game_over():\n",
    "        ple_env.reset_game()\n",
    "        ple_env.act(ple_env.NOOP)\n",
    "    #ple_env.saveScreen(\"test_screen_capture_{}.png\".format(i))"
   ]
  },
  {
   "cell_type": "markdown",
   "metadata": {},
   "source": [
    "### [2.0] MonsterKong"
   ]
  },
  {
   "cell_type": "code",
   "execution_count": 36,
   "metadata": {},
   "outputs": [
    {
     "name": "stdout",
     "output_type": "stream",
     "text": [
      "[115, 119, 100, 32, 97, None]\n"
     ]
    }
   ],
   "source": [
    "import numpy as np\n",
    "from ple import PLE\n",
    "from ple.games.monsterkong import MonsterKong\n",
    "\n",
    "game = MonsterKong() # create our game \n",
    "\n",
    "fps = 30  # fps we want to run at\n",
    "frame_skip = 2\n",
    "num_steps = 2\n",
    "force_fps = False # False for slower speed\n",
    "display_screen = True\n",
    "\n",
    "# make a PLE instance.\n",
    "ple_env = PLE(game, fps=fps, frame_skip=frame_skip, num_steps=num_steps,\n",
    "        force_fps=force_fps, display_screen=display_screen)\n",
    "\n",
    "action_length = len(ple_env.getActionSet())\n",
    "action_list = ple_env.getActionSet()\n",
    "print(action_list)\n",
    "\n",
    "# init agent and game.\n",
    "ple_env.init()\n",
    "#advance game one frame, starts out at a black screen\n",
    "ple_env.act(ple_env.NOOP)\n",
    "\n",
    "for i in range(100):\n",
    "    action = action_list[np.random.randint(0,action_length)]\n",
    "    ple_env.act(action)\n",
    "    if ple_env.game_over():\n",
    "        ple_env.reset_game()\n",
    "        ple_env.act(ple_env.NOOP)\n",
    "    #ple_env.saveScreen(\"test_screen_capture_{}.png\".format(i))"
   ]
  },
  {
   "cell_type": "markdown",
   "metadata": {},
   "source": [
    "### [2.1] Flappybird"
   ]
  },
  {
   "cell_type": "code",
   "execution_count": 3,
   "metadata": {},
   "outputs": [
    {
     "name": "stdout",
     "output_type": "stream",
     "text": [
      "couldn't import doomish\n",
      "Couldn't import doom\n",
      "[119, None]\n"
     ]
    }
   ],
   "source": [
    "import numpy as np\n",
    "from ple import PLE\n",
    "from ple.games.flappybird import FlappyBird\n",
    "\n",
    "game = FlappyBird() # create our game \n",
    "\n",
    "fps = 30  # fps we want to run at\n",
    "frame_skip = 2\n",
    "num_steps = 2\n",
    "force_fps = False # False for slower speed\n",
    "display_screen = True\n",
    "\n",
    "# make a PLE instance.\n",
    "ple_env = PLE(game, fps=fps, frame_skip=frame_skip, num_steps=num_steps,\n",
    "        force_fps=force_fps, display_screen=display_screen)\n",
    "\n",
    "action_length = len(ple_env.getActionSet())\n",
    "action_list = ple_env.getActionSet()\n",
    "print(action_list)\n",
    "\n",
    "# init agent and game.\n",
    "ple_env.init()\n",
    "#advance game one frame, starts out at a black screen\n",
    "ple_env.act(ple_env.NOOP)\n",
    "\n",
    "for i in range(100):\n",
    "    action = action_list[np.random.randint(0,action_length)]\n",
    "    ple_env.act(action)\n",
    "    if ple_env.game_over():\n",
    "        ple_env.reset_game()\n",
    "        ple_env.act(ple_env.NOOP)\n",
    "    #ple_env.saveScreen(\"test_screen_capture_{}.png\".format(i))"
   ]
  },
  {
   "cell_type": "code",
   "execution_count": 4,
   "metadata": {},
   "outputs": [
    {
     "data": {
      "text/plain": [
       "False"
      ]
     },
     "execution_count": 4,
     "metadata": {},
     "output_type": "execute_result"
    }
   ],
   "source": [
    "ple_env.game_over()"
   ]
  },
  {
   "cell_type": "code",
   "execution_count": null,
   "metadata": {
    "collapsed": true
   },
   "outputs": [],
   "source": []
  }
 ],
 "metadata": {
  "kernelspec": {
   "display_name": "Python 3",
   "language": "python",
   "name": "python3"
  },
  "language_info": {
   "codemirror_mode": {
    "name": "ipython",
    "version": 3
   },
   "file_extension": ".py",
   "mimetype": "text/x-python",
   "name": "python",
   "nbconvert_exporter": "python",
   "pygments_lexer": "ipython3",
   "version": "3.5.3"
  }
 },
 "nbformat": 4,
 "nbformat_minor": 2
}
